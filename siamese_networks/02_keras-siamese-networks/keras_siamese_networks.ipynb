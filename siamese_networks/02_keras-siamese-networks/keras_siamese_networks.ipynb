{
 "cells": [
  {
   "cell_type": "markdown",
   "metadata": {
    "id": "bqNl6ZBb8MJ2"
   },
   "source": [
    "# Siamese networks with Keras, TensorFlow, and Deep Learning\n",
    "\n",
    "### by [PyImageSearch.com](http://www.pyimagesearch.com)"
   ]
  },
  {
   "cell_type": "markdown",
   "metadata": {
    "id": "VMOTEi8h8T7h"
   },
   "source": [
    "## Welcome to **[PyImageSearch Plus](http://pyimg.co/plus)** Jupyter Notebooks!\n",
    "\n",
    "This notebook is associated with the [Siamese networks with Keras, TensorFlow, and Deep Learning](https://www.pyimagesearch.com/2020/11/30/siamese-networks-with-keras-tensorflow-and-deep-learning/) blog post published on 11-30-20.\n",
    "\n",
    "Only the code for the blog post is here. Most codeblocks have a 1:1 relationship with what you find in the blog post with two exceptions: (1) Python classes are not separate files as they are typically organized with PyImageSearch projects, and (2) Command Line Argument parsing is replaced with an `args` dictionary that you can manipulate as needed.\n",
    "\n",
    "We recommend that you execute (press ▶️) the code block-by-block, as-is, before adjusting parameters and `args` inputs. Once you've verified that the code is working, you are welcome to hack with it and learn from manipulating inputs, settings, and parameters. For more information on using Jupyter and Colab, please refer to these resources:\n",
    "\n",
    "*   [Jupyter Notebook User Interface](https://jupyter-notebook.readthedocs.io/en/stable/notebook.html#notebook-user-interface)\n",
    "*   [Overview of Google Colaboratory Features](https://colab.research.google.com/notebooks/basic_features_overview.ipynb)\n",
    "\n",
    "As a reminder, these PyImageSearch Plus Jupyter Notebooks are not for sharing; please refer to the **Copyright** directly below and **Code License Agreement** in the last cell of this notebook.\n",
    "\n",
    "Happy hacking!\n",
    "\n",
    "*Adrian*\n",
    "\n",
    "<hr>\n",
    "\n",
    "***Copyright:*** *The contents of this Jupyter Notebook, unless otherwise indicated, are Copyright 2020 Adrian Rosebrock, PyimageSearch.com. All rights reserved. Content like this is made possible by the time invested by the authors. If you received this Jupyter Notebook and did not purchase it, please consider making future content possible joining PyImageSearch Plus at [http://pyimg.co/plus/](http://pyimg.co/plus) today.*"
   ]
  },
  {
   "cell_type": "markdown",
   "metadata": {
    "id": "RpuM4JQK-ecz"
   },
   "source": [
    "### Install the necessary packages"
   ]
  },
  {
   "cell_type": "code",
   "execution_count": 1,
   "metadata": {
    "id": "qdtSckfk-hua"
   },
   "outputs": [
    {
     "name": "stdout",
     "output_type": "stream",
     "text": [
      "2.12.0\n"
     ]
    }
   ],
   "source": [
    "#!pip install tensorflow==2.3.0\n",
    "import tensorflow as tf\n",
    "print(tf.__version__)"
   ]
  },
  {
   "cell_type": "markdown",
   "metadata": {
    "id": "IM0TNh1V8gtB"
   },
   "source": [
    "### Download the code zip file"
   ]
  },
  {
   "cell_type": "code",
   "execution_count": 2,
   "metadata": {
    "id": "LAdx4mZs78xy"
   },
   "outputs": [],
   "source": [
    "#!wget https://pyimagesearch-code-downloads.s3-us-west-2.amazonaws.com/keras-siamese-networks/keras-siamese-networks.zip\n",
    "#!unzip -qq keras-siamese-networks.zip\n",
    "#cd keras-siamese-networks"
   ]
  },
  {
   "cell_type": "markdown",
   "metadata": {
    "id": "9s4k9ZhY8wd5"
   },
   "source": [
    "## Blog Post Code"
   ]
  },
  {
   "cell_type": "markdown",
   "metadata": {
    "id": "Tvqfs0Z38xtq"
   },
   "source": [
    "### Import Packages"
   ]
  },
  {
   "cell_type": "code",
   "execution_count": 3,
   "metadata": {
    "id": "heyL2WI580Xn"
   },
   "outputs": [],
   "source": [
    "# import the necessary packages\n",
    "from tensorflow.keras.models import Model\n",
    "from tensorflow.keras.layers import Input\n",
    "from tensorflow.keras.layers import Lambda\n",
    "from tensorflow.keras.layers import Conv2D\n",
    "from tensorflow.keras.layers import Dense\n",
    "from tensorflow.keras.layers import Dropout\n",
    "from tensorflow.keras.layers import GlobalAveragePooling2D\n",
    "from tensorflow.keras.layers import MaxPooling2D\n",
    "from tensorflow.keras.datasets import mnist\n",
    "import tensorflow.keras.backend as K\n",
    "import matplotlib.pyplot as plt\n",
    "import numpy as np\n",
    "import os"
   ]
  },
  {
   "cell_type": "markdown",
   "metadata": {
    "id": "BYdF2X0ADkQS"
   },
   "source": [
    "### Define our `Config` class"
   ]
  },
  {
   "cell_type": "code",
   "execution_count": 4,
   "metadata": {
    "id": "G_G1E-vBDj0A"
   },
   "outputs": [],
   "source": [
    "class Config:\n",
    "    # specify the shape of the inputs for our network\n",
    "    # in our case, we'll use MNIST, so it's 28x28\n",
    "    IMG_SHAPE = (28, 28, 1)\n",
    "\n",
    "    # specify the batch size and number of epochs\n",
    "    BATCH_SIZE = 64\n",
    "    # Siamese Networks require 100s of epochs\n",
    "    EPOCHS = 20 # 100\n",
    "\n",
    "    # define the path to the base output directory\n",
    "    BASE_OUTPUT = \"output\"\n",
    "\n",
    "    # use the base output path to derive the path to the serialized\n",
    "    # model along with training history plot\n",
    "    MODEL_PATH = os.path.sep.join([BASE_OUTPUT, \"siamese_model\"])\n",
    "    PLOT_PATH = os.path.sep.join([BASE_OUTPUT, \"plot.png\"])\n",
    "\n",
    "# instantiate the config class\n",
    "config = Config()"
   ]
  },
  {
   "cell_type": "markdown",
   "metadata": {
    "id": "fGPJ8m4lEn74"
   },
   "source": [
    "### Implementing our pair generation, euclidean distance, and plot history utility functions"
   ]
  },
  {
   "cell_type": "code",
   "execution_count": 5,
   "metadata": {
    "id": "B3ZSyp6YEtJx"
   },
   "outputs": [],
   "source": [
    "def make_pairs(images, labels):\n",
    "\t# initialize two empty lists to hold the (image, image) pairs and\n",
    "\t# labels to indicate if a pair is positive or negative\n",
    "\tpairImages = []\n",
    "\tpairLabels = []\n",
    "\n",
    "\t# calculate the total number of classes present in the dataset\n",
    "\t# and then build a list of indexes for each class label that\n",
    "\t# provides the indexes for all examples with a given label\n",
    "\tnumClasses = len(np.unique(labels))\n",
    "\tidx = [np.where(labels == i)[0] for i in range(0, numClasses)]\n",
    "\n",
    "\t# loop over all images\n",
    "\tfor idxA in range(len(images)):\n",
    "\t\t# grab the current image and label belonging to the current\n",
    "\t\t# iteration\n",
    "\t\tcurrentImage = images[idxA]\n",
    "\t\tlabel = labels[idxA]\n",
    "\n",
    "\t\t# randomly pick an image that belongs to the *same* class\n",
    "\t\t# label\n",
    "\t\tidxB = np.random.choice(idx[label])\n",
    "\t\tposImage = images[idxB]\n",
    "\n",
    "\t\t# prepare a positive pair and update the images and labels\n",
    "\t\t# lists, respectively\n",
    "\t\tpairImages.append([currentImage, posImage])\n",
    "\t\tpairLabels.append([1])\n",
    "\n",
    "\t\t# grab the indices for each of the class labels *not* equal to\n",
    "\t\t# the current label and randomly pick an image corresponding\n",
    "\t\t# to a label *not* equal to the current label\n",
    "\t\tnegIdx = np.where(labels != label)[0]\n",
    "\t\tnegImage = images[np.random.choice(negIdx)]\n",
    "\n",
    "\t\t# prepare a negative pair of images and update our lists\n",
    "\t\tpairImages.append([currentImage, negImage])\n",
    "\t\tpairLabels.append([0])\n",
    "\n",
    "\t# return a 2-tuple of our image pairs and labels\n",
    "\treturn (np.array(pairImages), np.array(pairLabels))"
   ]
  },
  {
   "cell_type": "code",
   "execution_count": 6,
   "metadata": {
    "id": "YXcPVZCGE1ly"
   },
   "outputs": [],
   "source": [
    "def euclidean_distance(vectors):\n",
    "\t# unpack the vectors into separate lists\n",
    "\t(featsA, featsB) = vectors\n",
    "\n",
    "\t# compute the sum of squared distances between the vectors\n",
    "\tsumSquared = K.sum(K.square(featsA - featsB), axis=1,\n",
    "\t\tkeepdims=True)\n",
    "\n",
    "\t# return the euclidean distance between the vectors\n",
    "\treturn K.sqrt(K.maximum(sumSquared, K.epsilon()))"
   ]
  },
  {
   "cell_type": "code",
   "execution_count": 7,
   "metadata": {
    "id": "Z3QoY24wE7NK"
   },
   "outputs": [],
   "source": [
    "def plot_training(H, plotPath):\n",
    "\t# construct a plot that plots and saves the training history\n",
    "\tplt.style.use(\"ggplot\")\n",
    "\tplt.figure()\n",
    "\tplt.plot(H.history[\"loss\"], label=\"train_loss\")\n",
    "\tplt.plot(H.history[\"val_loss\"], label=\"val_loss\")\n",
    "\tplt.plot(H.history[\"accuracy\"], label=\"train_acc\")\n",
    "\tplt.plot(H.history[\"val_accuracy\"], label=\"val_acc\")\n",
    "\tplt.title(\"Training Loss and Accuracy\")\n",
    "\tplt.xlabel(\"Epoch #\")\n",
    "\tplt.ylabel(\"Loss/Accuracy\")\n",
    "\tplt.legend(loc=\"lower left\")\n",
    "\tplt.savefig(plotPath)"
   ]
  },
  {
   "cell_type": "markdown",
   "metadata": {
    "id": "u8yghffrFB4a"
   },
   "source": [
    "### Implementing the siamese network architecture with Keras and TensorFlow"
   ]
  },
  {
   "cell_type": "code",
   "execution_count": 8,
   "metadata": {
    "id": "B67R684AFHs0"
   },
   "outputs": [],
   "source": [
    "def build_siamese_model(inputShape, embeddingDim=48):\n",
    "    # Although we have two sister networks,\n",
    "    # we only need to define one network.\n",
    "    # Usually, we'll require a more complex network,\n",
    "    # but since we're working with MNIST, we define\n",
    "    # this simple architecture:\n",
    "    # (Conv2D, MaxPool, Dropout) x 2\n",
    "    # Additionally, the feature vector dimension,\n",
    "    # embeddingDim = 48\n",
    "    \n",
    "\t# specify the inputs for the feature extractor network\n",
    "\tinputs = Input(inputShape)\n",
    "\n",
    "\t# define the first set of CONV => RELU => POOL => DROPOUT layers\n",
    "\tx = Conv2D(64, (2, 2), padding=\"same\", activation=\"relu\")(inputs)\n",
    "\tx = MaxPooling2D(pool_size=(2, 2))(x)\n",
    "\tx = Dropout(0.3)(x)\n",
    "\n",
    "\t# second set of CONV => RELU => POOL => DROPOUT layers\n",
    "\tx = Conv2D(64, (2, 2), padding=\"same\", activation=\"relu\")(x)\n",
    "\tx = MaxPooling2D(pool_size=2)(x)\n",
    "\tx = Dropout(0.3)(x)\n",
    "\n",
    "\t# prepare the final outputs\n",
    "\tpooledOutput = GlobalAveragePooling2D()(x)\n",
    "\toutputs = Dense(embeddingDim)(pooledOutput)\n",
    "\n",
    "\t# build the model\n",
    "\tmodel = Model(inputs, outputs)\n",
    "\n",
    "\t# return the model to the calling function\n",
    "\treturn model"
   ]
  },
  {
   "cell_type": "markdown",
   "metadata": {
    "id": "VRQ4Nj14FT3j"
   },
   "source": [
    "### Training our siamese network with Keras and TensorFlow"
   ]
  },
  {
   "cell_type": "code",
   "execution_count": 9,
   "metadata": {
    "id": "BynHE9sRFgod"
   },
   "outputs": [
    {
     "name": "stdout",
     "output_type": "stream",
     "text": [
      "[INFO] loading MNIST dataset...\n",
      "[INFO] preparing positive and negative pairs...\n"
     ]
    }
   ],
   "source": [
    "# load MNIST dataset and scale the pixel values to the range of [0, 1]\n",
    "print(\"[INFO] loading MNIST dataset...\")\n",
    "(trainX, trainY), (testX, testY) = mnist.load_data()\n",
    "trainX = trainX / 255.0\n",
    "testX = testX / 255.0\n",
    "\n",
    "# add a channel dimension to the images\n",
    "trainX = np.expand_dims(trainX, axis=-1)\n",
    "testX = np.expand_dims(testX, axis=-1)\n",
    "\n",
    "# prepare the positive and negative pairs\n",
    "print(\"[INFO] preparing positive and negative pairs...\")\n",
    "(pairTrain, labelTrain) = make_pairs(trainX, trainY)\n",
    "(pairTest, labelTest) = make_pairs(testX, testY)"
   ]
  },
  {
   "cell_type": "code",
   "execution_count": 10,
   "metadata": {
    "id": "dj_BrKi-FljA"
   },
   "outputs": [
    {
     "name": "stdout",
     "output_type": "stream",
     "text": [
      "[INFO] building siamese network...\n"
     ]
    }
   ],
   "source": [
    "# configure the siamese network\n",
    "print(\"[INFO] building siamese network...\")\n",
    "imgA = Input(shape=config.IMG_SHAPE)\n",
    "imgB = Input(shape=config.IMG_SHAPE)\n",
    "# Now, the next 6 lines are key: although we have 2 sister networks\n",
    "# we instantiate only one network!\n",
    "# We should understand the network as a feature extractor to which we pass 2 images.\n",
    "# The the extracted feature vectors are concatenated\n",
    "# and passed to the similarity/distance computation layer/function.\n",
    "# \n",
    "featureExtractor = build_siamese_model(config.IMG_SHAPE)\n",
    "featsA = featureExtractor(imgA)\n",
    "featsB = featureExtractor(imgB)"
   ]
  },
  {
   "cell_type": "code",
   "execution_count": 11,
   "metadata": {},
   "outputs": [],
   "source": [
    "# finally, construct the siamese network\n",
    "distance = Lambda(euclidean_distance)([featsA, featsB])\n",
    "outputs = Dense(1, activation=\"sigmoid\")(distance)\n",
    "model = Model(inputs=[imgA, imgB], outputs=outputs)"
   ]
  },
  {
   "cell_type": "code",
   "execution_count": 12,
   "metadata": {},
   "outputs": [
    {
     "name": "stdout",
     "output_type": "stream",
     "text": [
      "Model: \"model\"\n",
      "_________________________________________________________________\n",
      " Layer (type)                Output Shape              Param #   \n",
      "=================================================================\n",
      " input_3 (InputLayer)        [(None, 28, 28, 1)]       0         \n",
      "                                                                 \n",
      " conv2d (Conv2D)             (None, 28, 28, 64)        320       \n",
      "                                                                 \n",
      " max_pooling2d (MaxPooling2D  (None, 14, 14, 64)       0         \n",
      " )                                                               \n",
      "                                                                 \n",
      " dropout (Dropout)           (None, 14, 14, 64)        0         \n",
      "                                                                 \n",
      " conv2d_1 (Conv2D)           (None, 14, 14, 64)        16448     \n",
      "                                                                 \n",
      " max_pooling2d_1 (MaxPooling  (None, 7, 7, 64)         0         \n",
      " 2D)                                                             \n",
      "                                                                 \n",
      " dropout_1 (Dropout)         (None, 7, 7, 64)          0         \n",
      "                                                                 \n",
      " global_average_pooling2d (G  (None, 64)               0         \n",
      " lobalAveragePooling2D)                                          \n",
      "                                                                 \n",
      " dense (Dense)               (None, 48)                3120      \n",
      "                                                                 \n",
      "=================================================================\n",
      "Total params: 19,888\n",
      "Trainable params: 19,888\n",
      "Non-trainable params: 0\n",
      "_________________________________________________________________\n"
     ]
    }
   ],
   "source": [
    "featureExtractor.summary()"
   ]
  },
  {
   "cell_type": "code",
   "execution_count": 13,
   "metadata": {},
   "outputs": [
    {
     "name": "stdout",
     "output_type": "stream",
     "text": [
      "Model: \"model_1\"\n",
      "__________________________________________________________________________________________________\n",
      " Layer (type)                   Output Shape         Param #     Connected to                     \n",
      "==================================================================================================\n",
      " input_1 (InputLayer)           [(None, 28, 28, 1)]  0           []                               \n",
      "                                                                                                  \n",
      " input_2 (InputLayer)           [(None, 28, 28, 1)]  0           []                               \n",
      "                                                                                                  \n",
      " model (Functional)             (None, 48)           19888       ['input_1[0][0]',                \n",
      "                                                                  'input_2[0][0]']                \n",
      "                                                                                                  \n",
      " lambda (Lambda)                (None, 1)            0           ['model[0][0]',                  \n",
      "                                                                  'model[1][0]']                  \n",
      "                                                                                                  \n",
      " dense_1 (Dense)                (None, 1)            2           ['lambda[0][0]']                 \n",
      "                                                                                                  \n",
      "==================================================================================================\n",
      "Total params: 19,890\n",
      "Trainable params: 19,890\n",
      "Non-trainable params: 0\n",
      "__________________________________________________________________________________________________\n"
     ]
    }
   ],
   "source": [
    "model.summary()"
   ]
  },
  {
   "cell_type": "code",
   "execution_count": 14,
   "metadata": {
    "id": "Ev4OcOf7FwV5"
   },
   "outputs": [
    {
     "name": "stdout",
     "output_type": "stream",
     "text": [
      "[INFO] compiling model...\n",
      "[INFO] training model...\n",
      "Epoch 1/20\n",
      "1875/1875 [==============================] - 143s 75ms/step - loss: 0.6290 - accuracy: 0.6338 - val_loss: 0.5819 - val_accuracy: 0.6909\n",
      "Epoch 2/20\n",
      "1875/1875 [==============================] - 155s 83ms/step - loss: 0.5716 - accuracy: 0.7071 - val_loss: 0.5141 - val_accuracy: 0.7631\n",
      "Epoch 3/20\n",
      "1875/1875 [==============================] - 170s 91ms/step - loss: 0.5330 - accuracy: 0.7347 - val_loss: 0.4789 - val_accuracy: 0.7817\n",
      "Epoch 4/20\n",
      "1875/1875 [==============================] - 192s 102ms/step - loss: 0.5050 - accuracy: 0.7555 - val_loss: 0.4497 - val_accuracy: 0.7973\n",
      "Epoch 5/20\n",
      "1875/1875 [==============================] - 182s 97ms/step - loss: 0.4860 - accuracy: 0.7672 - val_loss: 0.4249 - val_accuracy: 0.8104\n",
      "Epoch 6/20\n",
      "1875/1875 [==============================] - 180s 96ms/step - loss: 0.4698 - accuracy: 0.7773 - val_loss: 0.4090 - val_accuracy: 0.8195\n",
      "Epoch 7/20\n",
      "1875/1875 [==============================] - 180s 96ms/step - loss: 0.4524 - accuracy: 0.7876 - val_loss: 0.3908 - val_accuracy: 0.8283\n",
      "Epoch 8/20\n",
      "1875/1875 [==============================] - 180s 96ms/step - loss: 0.4406 - accuracy: 0.7944 - val_loss: 0.3851 - val_accuracy: 0.8300\n",
      "Epoch 9/20\n",
      "1875/1875 [==============================] - 170s 90ms/step - loss: 0.4294 - accuracy: 0.8024 - val_loss: 0.3667 - val_accuracy: 0.8404\n",
      "Epoch 10/20\n",
      "1875/1875 [==============================] - 173s 92ms/step - loss: 0.4223 - accuracy: 0.8070 - val_loss: 0.3589 - val_accuracy: 0.8447\n",
      "Epoch 11/20\n",
      "1875/1875 [==============================] - 149s 80ms/step - loss: 0.4135 - accuracy: 0.8124 - val_loss: 0.3444 - val_accuracy: 0.8524\n",
      "Epoch 12/20\n",
      "1875/1875 [==============================] - 144s 77ms/step - loss: 0.4092 - accuracy: 0.8151 - val_loss: 0.3327 - val_accuracy: 0.8597\n",
      "Epoch 13/20\n",
      "1875/1875 [==============================] - 151s 81ms/step - loss: 0.4042 - accuracy: 0.8184 - val_loss: 0.3438 - val_accuracy: 0.8520\n",
      "Epoch 14/20\n",
      "1875/1875 [==============================] - 150s 80ms/step - loss: 0.4007 - accuracy: 0.8201 - val_loss: 0.3486 - val_accuracy: 0.8483\n",
      "Epoch 15/20\n",
      "1875/1875 [==============================] - 150s 80ms/step - loss: 0.3955 - accuracy: 0.8226 - val_loss: 0.3350 - val_accuracy: 0.8565\n",
      "Epoch 16/20\n",
      "1875/1875 [==============================] - 157s 84ms/step - loss: 0.3941 - accuracy: 0.8226 - val_loss: 0.3252 - val_accuracy: 0.8630\n",
      "Epoch 17/20\n",
      "1875/1875 [==============================] - 165s 88ms/step - loss: 0.3896 - accuracy: 0.8251 - val_loss: 0.3289 - val_accuracy: 0.8601\n",
      "Epoch 18/20\n",
      "1875/1875 [==============================] - 147s 78ms/step - loss: 0.3891 - accuracy: 0.8262 - val_loss: 0.3367 - val_accuracy: 0.8533\n",
      "Epoch 19/20\n",
      "1875/1875 [==============================] - 149s 79ms/step - loss: 0.3843 - accuracy: 0.8276 - val_loss: 0.3150 - val_accuracy: 0.8658\n",
      "Epoch 20/20\n",
      "1875/1875 [==============================] - 150s 80ms/step - loss: 0.3817 - accuracy: 0.8307 - val_loss: 0.3296 - val_accuracy: 0.8572\n"
     ]
    }
   ],
   "source": [
    "# compile the model\n",
    "print(\"[INFO] compiling model...\")\n",
    "model.compile(loss=\"binary_crossentropy\", optimizer=\"adam\",\n",
    "\tmetrics=[\"accuracy\"])\n",
    "\n",
    "# train the model\n",
    "print(\"[INFO] training model...\")\n",
    "history = model.fit(\n",
    "\t[pairTrain[:, 0], pairTrain[:, 1]], labelTrain[:],\n",
    "\tvalidation_data=([pairTest[:, 0], pairTest[:, 1]], labelTest[:]),\n",
    "\tbatch_size=config.BATCH_SIZE,\n",
    "\tepochs=config.EPOCHS)"
   ]
  },
  {
   "cell_type": "code",
   "execution_count": 15,
   "metadata": {
    "id": "E9FVEsjaF_QH"
   },
   "outputs": [
    {
     "name": "stdout",
     "output_type": "stream",
     "text": [
      "[INFO] saving siamese model...\n"
     ]
    },
    {
     "name": "stderr",
     "output_type": "stream",
     "text": [
      "WARNING:absl:Found untraced functions such as _update_step_xla, _jit_compiled_convolution_op, _jit_compiled_convolution_op while saving (showing 3 of 3). These functions will not be directly callable after loading.\n"
     ]
    },
    {
     "name": "stdout",
     "output_type": "stream",
     "text": [
      "INFO:tensorflow:Assets written to: output\\siamese_model\\assets\n"
     ]
    },
    {
     "name": "stderr",
     "output_type": "stream",
     "text": [
      "INFO:tensorflow:Assets written to: output\\siamese_model\\assets\n"
     ]
    },
    {
     "name": "stdout",
     "output_type": "stream",
     "text": [
      "[INFO] plotting training history...\n"
     ]
    },
    {
     "data": {
      "image/png": "[encoded data removed]",
      "text/plain": [
       "<Figure size 640x480 with 1 Axes>"
      ]
     },
     "metadata": {},
     "output_type": "display_data"
    }
   ],
   "source": [
    "# serialize the model to disk\n",
    "print(\"[INFO] saving siamese model...\")\n",
    "model.save(config.MODEL_PATH)\n",
    "\n",
    "# plot the training history\n",
    "print(\"[INFO] plotting training history...\")\n",
    "plot_training(history, config.PLOT_PATH)"
   ]
  },
  {
   "cell_type": "markdown",
   "metadata": {
    "id": "JXqcN65kGVpe"
   },
   "source": [
    "For a detailed walkthrough of the concepts and code, be sure to refer to the full tutorial, [*Siamese networks with Keras, TensorFlow, and Deep Learning*](https://www.pyimagesearch.com/2020/11/30/siamese-networks-with-keras-tensorflow-and-deep-learning/) blog post published on 11-30-20."
   ]
  },
  {
   "cell_type": "markdown",
   "metadata": {
    "id": "GWX61U5EGjPt"
   },
   "source": [
    "# Code License Agreement\n",
    "```\n",
    "Copyright (c) 2020 PyImageSearch.com\n",
    "\n",
    "SIMPLE VERSION\n",
    "Feel free to use this code for your own projects, whether they are\n",
    "purely educational, for fun, or for profit. THE EXCEPTION BEING if\n",
    "you are developing a course, book, or other educational product.\n",
    "Under *NO CIRCUMSTANCE* may you use this code for your own paid\n",
    "educational or self-promotional ventures without written consent\n",
    "from Adrian Rosebrock and PyImageSearch.com.\n",
    "\n",
    "LONGER, FORMAL VERSION\n",
    "Permission is hereby granted, free of charge, to any person obtaining\n",
    "a copy of this software and associated documentation files\n",
    "(the \"Software\"), to deal in the Software without restriction,\n",
    "including without limitation the rights to use, copy, modify, merge,\n",
    "publish, distribute, sublicense, and/or sell copies of the Software,\n",
    "and to permit persons to whom the Software is furnished to do so,\n",
    "subject to the following conditions:\n",
    "The above copyright notice and this permission notice shall be\n",
    "included in all copies or substantial portions of the Software.\n",
    "Notwithstanding the foregoing, you may not use, copy, modify, merge,\n",
    "publish, distribute, sublicense, create a derivative work, and/or\n",
    "sell copies of the Software in any work that is designed, intended,\n",
    "or marketed for pedagogical or instructional purposes related to\n",
    "programming, coding, application development, or information\n",
    "technology. Permission for such use, copying, modification, and\n",
    "merger, publication, distribution, sub-licensing, creation of\n",
    "derivative works, or sale is expressly withheld.\n",
    "THE SOFTWARE IS PROVIDED \"AS IS\", WITHOUT WARRANTY OF ANY KIND,\n",
    "EXPRESS OR IMPLIED, INCLUDING BUT NOT LIMITED TO THE WARRANTIES\n",
    "OF MERCHANTABILITY, FITNESS FOR A PARTICULAR PURPOSE AND\n",
    "NONINFRINGEMENT. IN NO EVENT SHALL THE AUTHORS OR COPYRIGHT HOLDERS\n",
    "BE LIABLE FOR ANY CLAIM, DAMAGES OR OTHER LIABILITY, WHETHER IN AN\n",
    "ACTION OF CONTRACT, TORT OR OTHERWISE, ARISING FROM, OUT OF OR IN\n",
    "CONNECTION WITH THE SOFTWARE OR THE USE OR OTHER DEALINGS IN THE\n",
    "SOFTWARE.\n",
    "```"
   ]
  }
 ],
 "metadata": {
  "accelerator": "GPU",
  "colab": {
   "provenance": []
  },
  "kernelspec": {
   "display_name": "Python 3 (ipykernel)",
   "language": "python",
   "name": "python3"
  },
  "language_info": {
   "codemirror_mode": {
    "name": "ipython",
    "version": 3
   },
   "file_extension": ".py",
   "mimetype": "text/x-python",
   "name": "python",
   "nbconvert_exporter": "python",
   "pygments_lexer": "ipython3",
   "version": "3.9.16"
  }
 },
 "nbformat": 4,
 "nbformat_minor": 4
}
